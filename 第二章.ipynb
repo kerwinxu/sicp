{
 "cells": [
  {
   "cell_type": "markdown",
   "metadata": {},
   "source": [
    "# 数据抽象"
   ]
  },
  {
   "cell_type": "markdown",
   "metadata": {},
   "source": [
    "数据抽象简单讲，就是讲处理复杂数据的部分跟复杂数据如何表示隔离开，  \n",
    "\n",
    "文中一开始的例子是有理数计算\n",
    "作为开始，假设已经有一种从分子和分母构造有理数的方法，并进一步假定，如果有一个有理数，我们可以有一种方法取得他们的分子和分母。\n",
    "\n",
    "- (make-rat \\<n> \\<d>) : 返回一个有理数，分子为n，分母为d\n",
    "- (number x) : 返回有理数x的分子\n",
    "- (denom x)  : 返回有理数x的分母\n",
    "\n",
    "我们这里使用一种称为 **按愿望思维**的策略，现在我们并没有说有理数将如何表示，也没有说number等如何实现，这里是假设已经有了这几个过程。然后我们就可以做有理数的加减程序和判断了\n",
    "\n",
    "$\\begin{equation}\\begin{array}{l}\n",
    "& \\frac{\\Huge{n_{1}}}{\\Huge{d_1}}+\\frac{\\Huge{n_2}}{\\Huge{d_2}}= \\frac{\\Huge{n_1d_2+n_2d_1}}{\\Huge{d_1d_2}}\\\\\n",
    "& \\Huge{\\frac{n_1}{d_1}-\\frac{n_2}{d_2}= \\frac{n_1d_2-n_2d_1}{d_1d_2}}\\\\\n",
    "& \\Huge{\\frac{n_1}{d_1}\\cdot\\frac{n_2}{d_2}=\\frac{n_1n_2}{d_1d_2}}\\\\\n",
    "& \\Huge{\\frac{n_1/d_2}{n_2/d_2}=\\frac{n_1d_2}{d_1n_2}}\\\\\n",
    "& \\Huge{\\frac{n_1}{d_1}=\\frac{n_2}{d_2} 当且仅当  n_1d_2 = n_2d_1}\n",
    "\\end{array}\\end{equation}$"
   ]
  },
  {
   "cell_type": "code",
   "execution_count": 1,
   "metadata": {
    "execution": {
     "iopub.status.busy": "2020-08-07T01:58:35Z",
     "iopub.status.idle": "2020-08-07T01:58:35Z"
    }
   },
   "outputs": [],
   "source": [
    "(define (add-rat x y)\n",
    "  (make-rat (+ (* (numer x) (denom y))\n",
    "               (* (numer y) (denom x)))\n",
    "            (* (denom x) (denom y))))\n",
    "\n",
    "(define (sub-rat x y)\n",
    "  (make-rat (- (* (numer x) (denom y))\n",
    "               (* (numer y) (denom x)))\n",
    "            (* (denom x) (denom y))))\n",
    "\n",
    "(define (mul-rat x y)\n",
    "  (make-rat (* (numer x) (numer y))\n",
    "            (* (denom x) (denom y))))\n",
    "\n",
    "(define (div-rat x y)\n",
    "  (make-rat (* (numer x) (denom y))\n",
    "            (* (denom x) (numer y))))\n",
    "\n",
    "(define (equal-rat? x y)\n",
    "  (= (* (numer x) (denom y))\n",
    "     (* (numer y) (denom x))))\n",
    "\n",
    "; 这样我们已经有了在选择和构造的基础上各种有理数的计算，而这时候我们的有理数还没有定义呢。\n",
    "; 现在我们需要有某种形式，将一个分子和分母粘贴起来，构造成有理数》\n",
    "; 这里用lisp的序对来构造有理数\n",
    "\n",
    "(define (make-rat n d) (cons n d))\n",
    "(define (numer x) (car x))\n",
    "(define (denom x) (cdr x))\n",
    "\n",
    "; 这里为了显示计算结果，显示打印吧\n",
    "\n",
    "(define (print-rat x)\n",
    "  (newline)\n",
    "  (display (numer x))\n",
    "  (display \"/\")\n",
    "  (display (denom x)))\n",
    "\n",
    "; 如下是测试一下\n",
    "(define one-half (make-rat 1 2))            ; 顶一个一个有理数\n",
    "(define one-third (make-rat 1 3))           ; 定义另一个有理数。"
   ]
  },
  {
   "cell_type": "code",
   "execution_count": 2,
   "metadata": {
    "execution": {
     "iopub.status.busy": "2020-08-07T01:58:35Z",
     "iopub.status.idle": "2020-08-07T01:58:35Z"
    }
   },
   "outputs": [
    {
     "name": "stdout",
     "output_type": "stream",
     "text": [
      "\n",
      "1/2"
     ]
    }
   ],
   "source": [
    "(print-rat one-half)                        ; 打印有理数"
   ]
  },
  {
   "cell_type": "code",
   "execution_count": 3,
   "metadata": {
    "execution": {
     "iopub.status.busy": "2020-08-07T01:58:35Z",
     "iopub.status.idle": "2020-08-07T01:58:35Z"
    }
   },
   "outputs": [
    {
     "name": "stdout",
     "output_type": "stream",
     "text": [
      "\n",
      "5/6"
     ]
    }
   ],
   "source": [
    "(print-rat (add-rat one-half one-third))    ; 有理数加法"
   ]
  },
  {
   "cell_type": "code",
   "execution_count": 4,
   "metadata": {
    "execution": {
     "iopub.status.busy": "2020-08-07T01:58:35Z",
     "iopub.status.idle": "2020-08-07T01:58:35Z"
    }
   },
   "outputs": [
    {
     "name": "stdout",
     "output_type": "stream",
     "text": [
      "\n",
      "1/6"
     ]
    }
   ],
   "source": [
    "(print-rat (mul-rat one-half one-third))    ; 有理数乘法"
   ]
  },
  {
   "cell_type": "code",
   "execution_count": 5,
   "metadata": {
    "execution": {
     "iopub.status.busy": "2020-08-07T01:58:35Z",
     "iopub.status.idle": "2020-08-07T01:58:35Z"
    }
   },
   "outputs": [
    {
     "name": "stdout",
     "output_type": "stream",
     "text": [
      "\n",
      "6/9"
     ]
    }
   ],
   "source": [
    "(print-rat (add-rat one-third one-third))"
   ]
  },
  {
   "cell_type": "code",
   "execution_count": 6,
   "metadata": {
    "execution": {
     "iopub.status.busy": "2020-08-07T01:58:35Z",
     "iopub.status.idle": "2020-08-07T01:58:35Z"
    }
   },
   "outputs": [
    {
     "name": "stdout",
     "output_type": "stream",
     "text": [
      "\n",
      "2/3"
     ]
    }
   ],
   "source": [
    "; 可以看到上边的这个没有将有理数化简为最简形式\n",
    "\n",
    "(define (gcd a b)                     ; 求 ab的最大公约数\n",
    "  (if (= b 0)\n",
    "      a\n",
    "      (gcd b (remainder a b))))\n",
    "\n",
    "(define (make-rat n d)\n",
    "  (let ((g (gcd n d)))                ; 这里是求最大公约数。\n",
    "    (cons (/ n g) (/ d g))))          ; 然后分子分母都除以最大公约数就是最简形式了\n",
    "\n",
    "(print-rat (add-rat one-third one-third))"
   ]
  },
  {
   "cell_type": "markdown",
   "metadata": {},
   "source": [
    "抽象屏障，隔离了系统中的不同层次，在每一层上，这种屏障都把使用数据抽象的程序（上面）于实现数据抽象的程序（下面）分开来。\n",
    "\n",
    "![](./图片/2-1.png)"
   ]
  },
  {
   "cell_type": "code",
   "execution_count": 7,
   "metadata": {
    "execution": {
     "iopub.status.busy": "2020-08-07T01:58:35Z",
     "iopub.status.idle": "2020-08-07T01:58:35Z"
    }
   },
   "outputs": [
    {
     "data": {
      "text/html": [
       "<code>'x</code>"
      ],
      "text/plain": [
       "'x"
      ]
     },
     "execution_count": 7,
     "metadata": {},
     "output_type": "execute_result"
    }
   ],
   "source": [
    "; 练习2.4的\n",
    "; 我这里前面加上my，不跟原先的冲突吧。\n",
    "(define (mycons a b)\n",
    "  (lambda (m) (m a b))) \n",
    " \n",
    "(define (mycar z) \n",
    "  (z (lambda (p q) p))) \n",
    "\n",
    "; 这里代换模型是这样子的。\n",
    "; 假设如下表达式\n",
    "(mycar (mycons 'x 'y)) \n",
    "(mycar (lambda (m) (m 'x 'y)))                ; 首先展开cons，\n",
    "((lambda (m) (m 'x 'y)) (lambda (p q) p))     ; 将(lambda (m) (m x y))作为参数展开car\n",
    "((lambda (p q) p) 'x 'y)                      ; 将(lambda (p q) p)作为m带入公式\n",
    "; 将x作为p，y作为q带入公式。\n",
    "; 最后得到x\n",
    "\n",
    "; 他的答案就很简单啦\n",
    "(define (mycdr z) \n",
    "  (z (lambda (p q) q))) \n",
    "\n",
    "(mycar (mycons 'x 'y)) "
   ]
  },
  {
   "cell_type": "code",
   "execution_count": 8,
   "metadata": {
    "execution": {
     "iopub.status.busy": "2020-08-07T01:58:35Z",
     "iopub.status.idle": "2020-08-07T01:58:35Z"
    }
   },
   "outputs": [],
   "source": [
    "; 练习2.6\n",
    "(define zero (lambda (f) (lambda (x) x)))    ; 其实就是这个有2个参数，取第二个参数的值。\n",
    "((zero 4) 3)\n",
    "; 这个将zero展开，就代换成\n",
    "; ((lambda (x) x) 3) \n",
    "; 然后将3带入x就是最后的值\n",
    "\n",
    "(define (add-1 n)\n",
    "  (lambda (f) \n",
    "    (lambda (x) (f ((n f) x)))))\n",
    "\n",
    "; 这里试试Zero加1是什么？\n",
    "(add-1 zero)\n",
    ";\n",
    "(add-1 (lambda (f)\n",
    "           (lambda (x)\n",
    "               x)))\n",
    "\n",
    "((lambda (n)                    ; add-1 展开\n",
    "     (lambda (f)\n",
    "         (lambda (x)\n",
    "             (f ((n f) x)))))\n",
    " (lambda (f)                    ; zero\n",
    "     (lambda (x)\n",
    "         x)))\n",
    "; 下边是带入n\n",
    "(lambda (f) \n",
    "    (lambda (x)\n",
    "        (f (\n",
    "            ((lambda (f)        ; zero\n",
    "                 (lambda (x)\n",
    "                     x))\n",
    "             f)\n",
    "            x))))\n",
    "\n",
    "(lambda (f)\n",
    "    (lambda (x)\n",
    "        (f ((lambda (x) x)\n",
    "            x))))\n",
    "\n",
    "(lambda (f)\n",
    "    (lambda (x)\n",
    "        (f x)))\n",
    "\n",
    "; 经过展开得出 one 的定义为\n",
    "(define one\n",
    "    (lambda (f)\n",
    "        (lambda (x)\n",
    "            (f x))))\n",
    "\n",
    "; 下边表示two\n",
    "(add-1 one)\n",
    "\n",
    "(add-1 (lambda (f)\n",
    "           (lambda (x)\n",
    "               (f x))))\n",
    "\n",
    "((lambda (n)                    ; add-1\n",
    "     (lambda (f)\n",
    "         (lambda (x)\n",
    "             (f ((n f) x)))))\n",
    " (lambda (f)                    ; one\n",
    "     (lambda (x)\n",
    "         (f x))))\n",
    "\n",
    "(lambda (f)\n",
    "    (lambda (x)\n",
    "        (f ((\n",
    "             (lambda (f)        ; one\n",
    "                 (lambda (x)\n",
    "                     (f x)))\n",
    "             f)\n",
    "            x))))\n",
    "\n",
    "(lambda (f)\n",
    "    (lambda (x)\n",
    "        (f ((lambda (x)\n",
    "                (f x))\n",
    "            x))))\n",
    "\n",
    "(lambda (f)\n",
    "    (lambda (x)\n",
    "        (f (f x))))\n",
    "\n",
    "(define two\n",
    "    (lambda (f)\n",
    "        (lambda (x)\n",
    "            (f (f x)))))\n",
    "\n",
    "; 加法函数\n",
    "; 通过对比 zero 、 one 和 two 的定义，我们可以发现，它们都接受两个参数 f 和 x ，不同的地方在于函数体内调用 f 的次数：\n",
    "\n",
    "(define zero\n",
    "    (lambda (f)\n",
    "        (lambda (x)\n",
    "            x)))            ; 没有 f\n",
    "\n",
    "(define one\n",
    "    (lambda (f)\n",
    "        (lambda (x)\n",
    "            (f x))))        ; 一个 f 调用\n",
    "\n",
    "(define two\n",
    "    (lambda (f)\n",
    "        (lambda (x)\n",
    "            (f (f x)))))    ; 两个 f 调用\n",
    "\n",
    "; 因此，我们有理由相信， three 和 four 的定义很可能是：\n",
    "\n",
    "(define three\n",
    "    (lambda (f)\n",
    "        (lambda (x)\n",
    "            (f (f (f x))))))        ; 三个 f 调用\n",
    "\n",
    "(define four\n",
    "    (lambda (f)\n",
    "        (lambda (x)\n",
    "            (f (f (f (f x)))))))    ; 四个 f 调用\n",
    "\n",
    "; 比如说， (+ 3 2) 的计算过程可以展开为：\n",
    ";; (+ 3 2)\n",
    "\n",
    ";; (+ (lambda (f)\n",
    ";;        (lambda (x)\n",
    ";;            (f (f (f x)))))\n",
    ";;    (lambda (f)\n",
    ";;        (lambda (x)\n",
    ";;            (f (f x)))))\n",
    "\n",
    "; ...\n",
    "\n",
    "(lambda (f)\n",
    "    (lambda (x)\n",
    "        (f (f (f (f (f x)))))))\n",
    "\n",
    "; 根据这个规则，可以写出相应的 Church 计数的加法函数：\n",
    "(define my+\n",
    "    (lambda (m)\n",
    "        (lambda (n)\n",
    "            (lambda (f)\n",
    "                (lambda (x)\n",
    "                    (m f (n f x)))))))\n",
    "\n",
    "; 加法函数接受两个参数 m 和 n ，然后返回一个接受两个参数 f 和 x 的函数，\n",
    "; 加法函数的函数体内， n 的函数体被表达式 (n f x) 取了出来，\n",
    "; 然后又在表达式 (m f (n f x)) 中作为函数 m 的第二个函数被调用，\n",
    "; 从而将 m 和 n 函数体内的 f 调用累积起来（如果有的话），从而形成加法效果。"
   ]
  },
  {
   "cell_type": "code",
   "execution_count": 9,
   "metadata": {
    "execution": {
     "iopub.status.busy": "2020-08-07T01:58:35Z",
     "iopub.status.idle": "2020-08-07T01:58:35Z"
    }
   },
   "outputs": [
    {
     "data": {
      "text/html": [
       "<code>5</code>"
      ],
      "text/plain": [
       "5"
      ]
     },
     "execution_count": 9,
     "metadata": {},
     "output_type": "execute_result"
    }
   ],
   "source": [
    "; 练习 2.7 给定非空表里的最后一个元素\n",
    "; 其实就是看看cdr是否为null吧\n",
    "(define (last-pair x)\n",
    "  (if (null? (cdr x))\n",
    "      (car x)\n",
    "      (last-pair (cdr x))))\n",
    "\n",
    "(last-pair (list 1 2 3 4 5))"
   ]
  },
  {
   "cell_type": "code",
   "execution_count": 10,
   "metadata": {
    "execution": {
     "iopub.status.busy": "2020-08-07T01:58:35Z",
     "iopub.status.idle": "2020-08-07T01:58:35Z"
    }
   },
   "outputs": [
    {
     "data": {
      "text/html": [
       "<code>'(5 4 3 2 1)</code>"
      ],
      "text/plain": [
       "'(5 4 3 2 1)"
      ]
     },
     "execution_count": 10,
     "metadata": {},
     "output_type": "execute_result"
    }
   ],
   "source": [
    "; 练习2.18 ，颠倒表的顺序。\n",
    "(define (reverse lst)\n",
    "    (iter lst '()))\n",
    "\n",
    "(define (iter remained-items result)         ; 这个是迭代版本，result 来表示结果。\n",
    "    (if (null? remained-items)\n",
    "        result\n",
    "        (iter (cdr remained-items)                  ; 这里是每次迭代剩余的\n",
    "              (cons (car remained-items) result)))) ; 而这个是每次迭代保存的结果。\n",
    "; 其实就是(car remained-items)在前面，表示每次都加到前面的意思。\n",
    "\n",
    "(reverse (list 1 2 3 4 5))"
   ]
  },
  {
   "cell_type": "markdown",
   "metadata": {},
   "source": [
    "## 对表的操作\n",
    "\n",
    "我们可以建立一个高级过程，将某一个过程应用于表的所有元素"
   ]
  },
  {
   "cell_type": "code",
   "execution_count": 11,
   "metadata": {
    "execution": {
     "iopub.status.busy": "2020-08-07T01:58:35Z",
     "iopub.status.idle": "2020-08-07T01:58:35Z"
    }
   },
   "outputs": [
    {
     "data": {
      "text/html": [
       "<code>'(1 2 3 4)</code>"
      ],
      "text/plain": [
       "'(1 2 3 4)"
      ]
     },
     "execution_count": 11,
     "metadata": {},
     "output_type": "execute_result"
    }
   ],
   "source": [
    "(define (mymap proc items)  ; mymap不想跟map冲名而已，proc是过程，items是表\n",
    "  (if (null? items)\n",
    "      nil \n",
    "      (cons (proc (car items))\n",
    "            (map proc (cdr items))))) \n",
    "\n",
    "(mymap abs (list -1 -2 -3 -4))   ; 这样就建立了一个处理表的高级抽象。"
   ]
  },
  {
   "cell_type": "code",
   "execution_count": 12,
   "metadata": {
    "execution": {
     "iopub.status.busy": "2020-08-07T01:58:35Z",
     "iopub.status.idle": "2020-08-07T01:58:35Z"
    }
   },
   "outputs": [
    {
     "data": {
      "text/html": [
       "<code>'((5 4 3) (6 2 1))</code>"
      ],
      "text/plain": [
       "'((5 4 3) (6 2 1))"
      ]
     },
     "execution_count": 12,
     "metadata": {},
     "output_type": "execute_result"
    }
   ],
   "source": [
    "; 练习 2.27 ，修改2.18所作的reverse过程，得到deep-reverse过程，\n",
    "; 它以一个表作为参数，返回另一个表作为值，结果将表中的元素反转过来，其中的子树也反转。\n",
    "; 其实就是做几个判断，\n",
    "; 一个是判断是否是空树\n",
    "; 一个是判断是否是叶子\n",
    "; 其他\n",
    "; https://sicp.readthedocs.io/en/latest/chp2/27.html 这个答案是有问题的，只是二叉树。\n",
    "; 如下的支持任意树形结构。  https://blog.csdn.net/keyboardOTA/article/details/39910345\n",
    "(define (deep-reverse input-list)\n",
    "  (if (null? input-list)\n",
    "      '()\n",
    "      (append (deep-reverse (cdr input-list))          ; 这里就是顺序颠倒啦。\n",
    "\t      (if (list? (car input-list))                 ; 判断第一个是否为列表\n",
    "\t\t\t (list (deep-reverse (car input-list)))    ; 则对列表递归调用。\n",
    "\t\t\t (list (car input-list))))))\n",
    "\n",
    "(define x (list (list 1 2 6) (list 3 4 5)))\n",
    "(deep-reverse x)"
   ]
  },
  {
   "cell_type": "code",
   "execution_count": 13,
   "metadata": {
    "execution": {
     "iopub.status.busy": "2020-08-07T01:58:35Z",
     "iopub.status.idle": "2020-08-07T01:58:35Z"
    }
   },
   "outputs": [
    {
     "data": {
      "text/html": [
       "<code>'(1 2 6 3 4 5)</code>"
      ],
      "text/plain": [
       "'(1 2 6 3 4 5)"
      ]
     },
     "execution_count": 13,
     "metadata": {},
     "output_type": "execute_result"
    }
   ],
   "source": [
    "; 练习 2.28 ，写一个过程fringe，以一个树为参数，返回一个表，表中的元素是这棵树的所有树叶，按照从左到右边的顺序。\n",
    "; 树状结构的遍历\n",
    "\n",
    "(define (fringe input-list)\n",
    "  (if (null? input-list)\n",
    "      '()\n",
    "      (append \n",
    "       (if \n",
    "        (list? (car input-list))       ; 判断是否有根节点\n",
    "\t\t  (fringe (car input-list))    ; 有根节点，递归\n",
    "\t\t  (list (car input-list)))     ; 没根节点，只是第一项啦\n",
    "\t      (fringe (cdr input-list))))) ; 其他项目递归\n",
    "\n",
    "(fringe x)"
   ]
  },
  {
   "cell_type": "code",
   "execution_count": 14,
   "metadata": {
    "execution": {
     "iopub.status.busy": "2020-08-07T01:58:35Z",
     "iopub.status.idle": "2020-08-07T01:58:35Z"
    }
   },
   "outputs": [
    {
     "name": "stdout",
     "output_type": "stream",
     "text": [
      "15\n",
      "120\n"
     ]
    },
    {
     "name": "stderr",
     "output_type": "stream",
     "text": [
      "nil: undefined;\n",
      " cannot reference an identifier before its definition\n",
      "  in module: top-level\n"
     ]
    }
   ],
   "source": [
    "; 练习 2.42 8皇后 \n",
    "\n",
    "\n",
    "; 可以实现累加的。op为操作函数，\n",
    "(define (accumulate op initial sequence)\n",
    "  (if (null? sequence)\n",
    "      initial\n",
    "      (op (car sequence)\n",
    "          (accumulate op initial (cdr sequence)))))\n",
    "; 比如如下的这个是累加。\n",
    "(display (accumulate + 0 (list 1 2 3 4 5)))\n",
    "(newline)\n",
    "; 这个是累乘\n",
    "(display (accumulate * 1 (list 1 2 3 4 5)))\n",
    "(newline)\n",
    "\n",
    "; 这个是展平的操作\n",
    "(define (flatmap proc seq)\n",
    "  (accumulate append nil (map proc seq)))\n",
    "(define (inc x) (+ x 1))\n",
    "(display (flatmap inc x))\n",
    "\n",
    "\n",
    "\n",
    "(define (queens board-size)\n",
    "  (define (queen-cols k)                    ; 定义一个内部过程\n",
    "    (if (= k 0)                             ; 如果k为0，\n",
    "        (list empty-board)                  ; 就返回空棋盘\n",
    "        (filter                             ; 否则过滤，\n",
    "         (lambda (positions) (safe? k positions))   ; 过滤条件是安全的点。\n",
    "         (flatmap                                   ; 展平\n",
    "          (lambda (rest-of-queens)\n",
    "            (map (lambda (new-row)\n",
    "                   (adjoin-position\n",
    "                    new-row k rest-of-queens))\n",
    "                 (enumerate-interval 1 board-size)))\n",
    "          (queen-cols (- k 1))))))\n",
    "  (queen-cols board-size))"
   ]
  },
  {
   "cell_type": "markdown",
   "metadata": {},
   "source": [
    "# 图形语言\n",
    "\n",
    "描述一门语言时，应该将注意力集中到如下几点：\n",
    "- 基本原语\n",
    "- 组合手段\n",
    "- 抽象手段\n",
    "\n",
    "如下以一个图形语言为例子说明这个\n",
    "- 语言只有一个元素：\n",
    "   - ![](./图片/图形语言基本元素1.png)\n",
    "- 组合方法 \n",
    "   - beside 是组合2个画像成左右两边的\n",
    "   - below  是组合2个画像成上下两边的\n",
    "   - flip-vert  是返回一个上下颠倒的画像\n",
    "   - flip-horiz 是返回一个左右颠倒的画像\n",
    "   - ![](./图片/图形语言组合方法.png)\n",
    "- 抽象方法\n",
    "   - 比如如上的这个组合方法，用抽象方法是"
   ]
  },
  {
   "cell_type": "raw",
   "metadata": {
    "execution": {
     "iopub.status.busy": "2020-08-06T02:42:32Z",
     "iopub.status.idle": "2020-08-06T02:42:32Z"
    }
   },
   "source": [
    "(define (flipped-pairs painter)\n",
    "  (let ((painter2 (below painter (flip-vert painter))))  \n",
    "    (below painter2 painter2)))\n",
    ";  并用wave4 重新定义这个模式的实例\n",
    "(define wave4 (flipped-pairs wave))\n",
    "     "
   ]
  },
  {
   "cell_type": "markdown",
   "metadata": {},
   "source": [
    "# 数据导向\n",
    "最关键的想法是通过显式处理操作-类型表格的方式，管理程序中的各种通用类型操作。\n",
    "\n",
    "基于类型进行分派的方式，让每个操作管理自己的分派，从效果上看，这种方式就是将操作-类型表格分解为一行一行，每个通用性过程表示表格中的一行。\n",
    "\n",
    "![](./图片/数据导向表1.png)"
   ]
  },
  {
   "cell_type": "code",
   "execution_count": 15,
   "metadata": {
    "execution": {
     "iopub.status.busy": "2020-08-07T01:58:35Z",
     "iopub.status.idle": "2020-08-07T01:58:35Z"
    }
   },
   "outputs": [],
   "source": [
    "; (put <op> <type> <item>)\n",
    ";  (get <op> <type>)\n",
    "\n",
    "; \n",
    "(define (install-rectangular-package)\n",
    " ;; internal procedures\n",
    " (define (real-part z) (car z))\n",
    " (define (imag-part z) (cdr z))\n",
    " (define (make-from-real-imag x y) (cons x y))\n",
    " (define (magnitude z)\n",
    " (sqrt (+ (square (real-part z))\n",
    " (square (imag-part z)))))\n",
    " (define (angle z)\n",
    " (atan (imag-part z) (real-part z)))\n",
    " (define (make-from-mag-ang r a)\n",
    " (cons (* r (cos a)) (* r (sin a))))\n",
    " ;; interface to the rest of the system\n",
    " (define (tag x) (attach-tag 'rectangular x))\n",
    " (put 'real-part '(rectangular) real-part)\n",
    " (put 'imag-part '(rectangular) imag-part)\n",
    " (put 'magnitude '(rectangular) magnitude)\n",
    " (put 'angle '(rectangular) angle)\n",
    " (put 'make-from-real-imag 'rectangular\n",
    " (lambda (x y) (tag (make-from-real-imag x y))))\n",
    " (put 'make-from-mag-ang 'rectangular\n",
    " (lambda (r a) (tag (make-from-mag-ang r a))))\n",
    " 'done)\n",
    "\n",
    "; 选择函数，将通用性操作应用于一些参数。\n",
    "(define (apply-generic op . args)\n",
    "  (let ((type-tags (map type-tag args)))\n",
    "    (let ((proc (get op type-tags)))\n",
    "      (if proc\n",
    "          (apply proc (map contents args))\n",
    "          (error\n",
    "           \"No method for these types -- APPLY-GENERIC\"\n",
    "           (list op type-tags))))))\n",
    "\n",
    "; 各种通用型函数定义如下\n",
    "(define (real-part z) (apply-generic 'real-part z))\n",
    "(define (imag-part z) (apply-generic 'imag-part z))\n",
    "(define (magnitude z) (apply-generic 'magnitude z))\n",
    "(define (angle z) (apply-generic 'angle z))\n",
    "\n",
    "; 如下是定义复数\n",
    "; 可以看到，定义也是从那个二维表中取得相应的操作的。\n",
    "(define (make-from-real-imag x y)\n",
    " ((get 'make-from-real-imag 'rectangular) x y))\n",
    "(define (make-from-mag-ang r a)\n",
    " ((get 'make-from-mag-ang 'polar) r a))"
   ]
  },
  {
   "cell_type": "markdown",
   "metadata": {},
   "source": [
    "# 消息传递\n",
    "采用“智能数据对象”，让它们基于操作名完成所需的分派任务。\n",
    "\n",
    "消息传递将数据对象设想成一个实体，它以“消息”的方式接收到所选操作的名字。"
   ]
  },
  {
   "cell_type": "code",
   "execution_count": 16,
   "metadata": {
    "execution": {
     "iopub.status.busy": "2020-08-07T01:58:35Z",
     "iopub.status.idle": "2020-08-07T01:58:35Z"
    }
   },
   "outputs": [],
   "source": [
    "(define (make-from-real-imag x y)      ; 这里就是一个智能对象，里边有相关的操作。\n",
    "  (define (dispatch op)\n",
    "    (cond ((eq? op 'real-part) x)\n",
    "          ((eq? op 'imag-part) y)\n",
    "          ((eq? op 'magnitude)\n",
    "           (sqrt (+ (square x) (square y))))\n",
    "          ((eq? op 'angle) (atan y x))\n",
    "          (else\n",
    "           (error \"Unknown op -- MAKE-FROM-REAL-IMAG\" op))))\n",
    "  dispatch)   ; 清注意这个过程返回的是一个过程。\n",
    "\n",
    "; 分派过程由如下的做\n",
    "(define (apply-generic op arg) (arg op))\n",
    "\n",
    "; 这个消息传递就是面向对象中的对象吧。然后各个操作相当于对象的属性。"
   ]
  },
  {
   "cell_type": "markdown",
   "metadata": {},
   "source": [
    "# 数据导向和消息传递区别\n",
    "\n",
    "通用型过程，其实都是一个二维表，区别在于\n",
    "- 数据导向是按照行分隔，每个操作管理自己的分派。\n",
    "- 消息传递是按照列分隔，是构建一个智能数据对象，每个智能对象里有各个操作。\n",
    "\n",
    "在通用型过程上增加操作：\n",
    "- 数据导向，在多个类型上都put一个函数就可以了。\n",
    "- 消息传递，每个智能管理对象修改，增加一个操作。\n",
    "\n",
    "在通用型过程上增加类型：\n",
    "- 数据导向，为这个类型增加多有的操作。\n",
    "- 消息传递，增加一个智能管理对象。"
   ]
  },
  {
   "cell_type": "markdown",
   "metadata": {},
   "source": [
    "# 引用\n",
    "\n",
    ">[SICP 解题集](https://sicp.readthedocs.io/en/latest/index.html)\n",
    ">[SICP 习题 （2.27）解题总结：树状列表的遍历](https://blog.csdn.net/keyboardOTA/article/details/39910345)"
   ]
  },
  {
   "cell_type": "code",
   "execution_count": null,
   "metadata": {},
   "outputs": [],
   "source": []
  }
 ],
 "metadata": {
  "kernelspec": {
   "display_name": "Racket",
   "language": "racket",
   "name": "racket"
  },
  "language_info": {
   "codemirror_mode": "scheme",
   "file_extension": ".rkt",
   "mimetype": "text/x-racket",
   "name": "Racket",
   "pygments_lexer": "racket",
   "version": "7.7.0.901"
  }
 },
 "nbformat": 4,
 "nbformat_minor": 4
}
