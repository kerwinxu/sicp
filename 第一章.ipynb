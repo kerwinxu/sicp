{
 "cells": [
  {
   "cell_type": "code",
   "execution_count": 1,
   "metadata": {
    "execution": {
     "iopub.status.busy": "2020-08-04T07:20:36Z",
     "iopub.status.idle": "2020-08-04T07:20:36Z"
    }
   },
   "outputs": [],
   "source": [
    "(require sicp)"
   ]
  },
  {
   "cell_type": "markdown",
   "metadata": {},
   "source": [
    "# 构造过程抽象"
   ]
  },
  {
   "cell_type": "markdown",
   "metadata": {},
   "source": [
    "## 程序设计基本元素"
   ]
  },
  {
   "cell_type": "markdown",
   "metadata": {},
   "source": [
    "普遍性的认识  \n",
    "- 将若干简单认识组合为一个复杂的认识，由此产生出各种复杂的认识\n",
    "- 将2个认识放在一起对照，不管它们如何简单或者复杂，在这样做时并不将他们合二为一，由此可以得到有关它们的相互关系的认识。\n",
    "- 将有关认识与那些在实际中和它们同在的所有其他认识隔离开，这就是抽象。\n",
    "\n",
    "程序设计的基本元素  \n",
    "- 基本表达形式 ： 用于表示语言所关心的最简单的个体。\n",
    "- 组合的方法   ： 通过它们可以从比较简单的东西出发构造出复合的元素。\n",
    "- 抽象的方法   ： 通过它们可以为复合对象命名，并将他们当作单元去操作。\n",
    "\n",
    "组合式的求值  \n",
    "- 求值该组合式的各个子表达式\n",
    "- 将作为最左子表达式（运算符）的值的那个过程应用于相应的实际参数，所谓实际参数也就是其他子表达式（运算对象）的值。\n"
   ]
  },
  {
   "cell_type": "markdown",
   "metadata": {},
   "source": [
    "### 抽象"
   ]
  },
  {
   "cell_type": "markdown",
   "metadata": {},
   "source": [
    "这里以牛顿法求平方根来看看抽象，牛顿法是只需要求出y和x/y的平均值（它更接近实际的平均根值）"
   ]
  },
  {
   "cell_type": "code",
   "execution_count": 2,
   "metadata": {
    "execution": {
     "iopub.status.busy": "2020-08-04T07:20:37Z",
     "iopub.status.idle": "2020-08-04T07:20:37Z"
    }
   },
   "outputs": [
    {
     "data": {
      "text/html": [
       "<code>65537/21845</code>"
      ],
      "text/plain": [
       "65537/21845"
      ]
     },
     "execution_count": 2,
     "metadata": {},
     "output_type": "execute_result"
    }
   ],
   "source": [
    "; 最顶层的抽象。\n",
    "(define (sqrt-iter guess x)                       ; 定义\n",
    "  (if (good-enough guess x)                       ; 如果这个值足够好了。\n",
    "      guess                                       ; 就返回这个值就可以了。\n",
    "      (sqrt-iter (improve guess x)                ; 否则继续迭代，然后improve是改进值。\n",
    "                 x)))\n",
    "\n",
    "; 如下是一步步的改进如上的表达式。\n",
    "(define (improve guess x)                         ; 改进的\n",
    "  (average guess (/ x  guess)))                   ; y和x/y的平均值\n",
    "\n",
    "(define (good-enough guess x)                     ; 足够好了，误差足够小的意思\n",
    "  (< (abs (- (square guess) x)) 0.001))  \n",
    "\n",
    "(define (square x)                                ; 平方的\n",
    "  (* x x))\n",
    "\n",
    "(define (average x y)                             ; 平均值\n",
    "(/ (+ x y) 2))\n",
    "\n",
    "(sqrt-iter 1 9)"
   ]
  },
  {
   "cell_type": "markdown",
   "metadata": {
    "execution": {
     "iopub.execute_input": "2020-08-04T00:52:19.665072Z",
     "iopub.status.busy": "2020-08-04T00:52:19.664073Z",
     "iopub.status.idle": "2020-08-04T00:52:19.686073Z",
     "shell.execute_reply": "2020-08-04T00:52:19.684070Z",
     "shell.execute_reply.started": "2020-08-04T00:52:19.664073Z"
    }
   },
   "source": [
    "## 过程和它们所产生的运算 - 不就是时间复杂度吗\n",
    "\n",
    "这里主要将递归和迭代的。  \n",
    "\n",
    "- 我们说一个过程是递归的时候，论述的是语法形式上的事实，说明这个过程的定义中（直接或者间接的）引用了该过程自身。\n",
    "- 在说某一计算过程具有某种模式时（例如线性递归），我们说的是这一计算过程的进展形式，而不是相应过程书写上的语法形式。"
   ]
  },
  {
   "cell_type": "markdown",
   "metadata": {
    "execution": {
     "iopub.status.busy": "2020-08-04T07:40:24Z",
     "iopub.status.idle": "2020-08-04T07:40:24Z"
    }
   },
   "source": [
    "#### 斐波那契数列"
   ]
  },
  {
   "cell_type": "code",
   "execution_count": 5,
   "metadata": {
    "execution": {
     "iopub.status.busy": "2020-08-04T07:20:59Z",
     "iopub.status.idle": "2020-08-04T07:20:59Z"
    }
   },
   "outputs": [
    {
     "data": {
      "text/html": [
       "<code>21</code>"
      ],
      "text/plain": [
       "21"
      ]
     },
     "execution_count": 5,
     "metadata": {},
     "output_type": "execute_result"
    }
   ],
   "source": [
    "; 例子是斐波那契数列，这一个序列中的每一个数都是前面2个数之和。\n",
    "\n",
    "; 如下是递归版本\n",
    "(define (fib n)\n",
    "  (cond ((= n 0) 0)\n",
    "        ((= n 1) 1)\n",
    "        (else (+ (fib (- n 1))\n",
    "                 (fib (- n 2))))))\n",
    "(fib 8)"
   ]
  },
  {
   "cell_type": "code",
   "execution_count": 6,
   "metadata": {
    "execution": {
     "iopub.status.busy": "2020-08-04T07:21:01Z",
     "iopub.status.idle": "2020-08-04T07:21:01Z"
    }
   },
   "outputs": [
    {
     "data": {
      "text/html": [
       "<code>21</code>"
      ],
      "text/plain": [
       "21"
      ]
     },
     "execution_count": 6,
     "metadata": {},
     "output_type": "execute_result"
    }
   ],
   "source": [
    "; 如下是迭代版本，迭代版本重要的是用几个变量来保存了中间的参数\n",
    "; fib(1) = 1 , fib(0) = 0 , 然后反复的应用如下规则\n",
    "; a <- a + b\n",
    "; b <- a\n",
    "(define (fib2 n)\n",
    "  (define (fib2-iter a b counter)\n",
    "    (if (= counter 0)\n",
    "        b\n",
    "        (fib2-iter (+ a b) a (- counter 1))))\n",
    "  (fib2-iter 1 0 n))\n",
    "(fib2 8)"
   ]
  },
  {
   "cell_type": "markdown",
   "metadata": {},
   "source": [
    "可以看到两种方法所需的步骤相差巨大，递归版本的是一颗树，有很多重复的计算，而迭代版本的复杂性是线性的，"
   ]
  },
  {
   "cell_type": "markdown",
   "metadata": {},
   "source": [
    "#### 换零钱\n",
    "\n",
    "给了50、25、10、5、1美分的硬币，将1美元（100美分）换成零钱，总共有多少种换法？  \n",
    "\n",
    "如下是递归法  \n",
    "\n",
    "将总数为a的现金换成n种硬币的不同方式的数目等于\n",
    "- 将现金数a换成除第一种硬币之外的所有其他硬币的不同方式数目，加上\n",
    "- 将现金数a-d换成所有种类的硬币的不同方式数目，其中的d是第一种硬币的币值\n",
    "\n",
    "按照如上的规则可以总结如下算法\n",
    "- 如果a就是0，应该算作是有1种换零钱的方式。\n",
    "- 如果a小于0，应该算作是有0种换零钱的方式。\n",
    "- 如果n是0，应该算作是有0种换零钱的方式。"
   ]
  },
  {
   "cell_type": "code",
   "execution_count": 13,
   "metadata": {
    "execution": {
     "iopub.status.busy": "2020-08-04T08:24:13Z",
     "iopub.status.idle": "2020-08-04T08:24:13Z"
    }
   },
   "outputs": [
    {
     "data": {
      "text/html": [
       "<code>292</code>"
      ],
      "text/plain": [
       "292"
      ]
     },
     "execution_count": 13,
     "metadata": {},
     "output_type": "execute_result"
    }
   ],
   "source": [
    "(define (first-denomination kinds-of-coin)\n",
    "  (cond ((= kinds-of-coin 1) 1)\n",
    "        ((= kinds-of-coin 2) 5)\n",
    "        ((= kinds-of-coin 3) 10)\n",
    "        ((= kinds-of-coin 4) 25)\n",
    "        ((= kinds-of-coin 5) 50)))\n",
    "\n",
    "(define (cc amount kinds-of-coin)\n",
    "  (cond ((= amount 0) 1)\n",
    "        ((or (< amount 0) (= kinds-of-coin 0)) 0)\n",
    "        (else (+ (cc amount\n",
    "                     (- kinds-of-coin 1))\n",
    "                 (cc (- amount\n",
    "                        (first-denomination kinds-of-coin))\n",
    "                     kinds-of-coin)))))\n",
    "\n",
    "(define (count-change amount)\n",
    "  (cc amount 5))\n",
    "\n",
    "(count-change 100)"
   ]
  },
  {
   "cell_type": "code",
   "execution_count": null,
   "metadata": {},
   "outputs": [],
   "source": []
  },
  {
   "cell_type": "code",
   "execution_count": 28,
   "metadata": {
    "execution": {
     "iopub.status.busy": "2020-08-04T08:44:00Z",
     "iopub.status.idle": "2020-08-04T08:44:00Z"
    }
   },
   "outputs": [
    {
     "data": {
      "text/html": [
       "<code>292</code>"
      ],
      "text/plain": [
       "292"
      ]
     },
     "execution_count": 28,
     "metadata": {},
     "output_type": "execute_result"
    }
   ],
   "source": [
    "; 如下是迭代法\n",
    "(define (get-coin index)\n",
    "  (cond ((= index 1) 50)\n",
    "        ((= index 2) 25)\n",
    "        ((= index 3) 10)\n",
    "        ((= index 4) 5)\n",
    "        ((= index 5) 1)))\n",
    "\n",
    "(define (c-c leftAmount count cursor c1 c2 c3 c4 c5)\n",
    "  (cond ((or (= leftAmount 0) (< leftAmount 0)) ; 当剩余的钱小于或等于0的时候\n",
    "         (cond ((or (= cursor 4)\n",
    "                    (and (= cursor 5) (> c4 0))) ;如果cursor=4，或者 cursor=5且c4>0\n",
    "                (c-c (- (+ leftAmount\n",
    "                           (get-coin 4))\n",
    "                        (get-coin 5)) ;leftAmount将第4种硬币钱数加回来一个，且c4减1，紧接着加上第5种硬币钱数，且c5加1\n",
    "                     (if (< leftAmount 0)\n",
    "                         count\n",
    "                         (+ count 1)) ;如果leftAmount=0，说明正好分完一次，所以count加1；反之，count不变\n",
    "                     5 ;将游标指向第五种硬币\n",
    "                     c1\n",
    "                     c2\n",
    "                     c3\n",
    "                     (- c4 1) ;c4减1\n",
    "                     (+ c5 1))) ;c5加1，不清零是因为c5是最后一种硬币，无需从零开始计算\n",
    "                ((or (= cursor 3)\n",
    "                     (and (= cursor 5) (= c4 0) (> c3 0)))\n",
    "                 (c-c (- (+ leftAmount\n",
    "                            (get-coin 3)\n",
    "                            (* c5 (get-coin 5)));此时c5需要清零，所以把第五种硬币的钱数都加回来\n",
    "                          (get-coin 4))\n",
    "                      (if (< leftAmount 0)\n",
    "                          count\n",
    "                          (+ count 1))\n",
    "                      4\n",
    "                      c1\n",
    "                      c2\n",
    "                      (- c3 1)\n",
    "                      (+ c4 1)\n",
    "                      0))\n",
    "               ((or (= cursor 2)\n",
    "                    (and (= cursor 5) (= c4 0) (= c3 0) (> c2 0)))\n",
    "                (c-c (- (+ leftAmount\n",
    "                           (get-coin 2)\n",
    "                           (* c4 (get-coin 4))\n",
    "                           (* c5 (get-coin 5)))\n",
    "                        (get-coin 3))\n",
    "                     (if (< leftAmount 0)\n",
    "                         count\n",
    "                         (+ count 1))\n",
    "                     3\n",
    "                     c1\n",
    "                     (- c2 1)\n",
    "                     (+ c3 1)\n",
    "                     0 ;清零原理同上\n",
    "                     0))\n",
    "               ((or (= cursor 1)\n",
    "                    (and (= cursor 5) (= c4 0) (= c3 0) (= c2 0) (> c1 0)))\n",
    "                (c-c (- (+ leftAmount\n",
    "                           (get-coin 1)\n",
    "                           (* c3 (get-coin 3))\n",
    "                           (* c4 (get-coin 4))\n",
    "                           (* c5 (get-coin 5)))\n",
    "                        (get-coin 2))\n",
    "                     (if (< leftAmount 0)\n",
    "                         count\n",
    "                         (+ count 1))\n",
    "                     2\n",
    "                     (- c1 1)\n",
    "                     (+ c2 1)\n",
    "                     0\n",
    "                     0\n",
    "                     0))\n",
    "               (else (if (< leftAmount 0); 此时c4=0,c3=0,c2=0,c1=0,所以全部遍历完毕，结束。\n",
    "                         count\n",
    "                         (+ count 1)))))\n",
    "         (else (c-c (- leftAmount\n",
    "                       (get-coin cursor));此时如果leftAmount>0,继续将游标指向的硬币数量加1\n",
    "                    count\n",
    "                    cursor\n",
    "                    (if (= cursor 1)\n",
    "                        (+ c1 1)\n",
    "                        c1)\n",
    "                    (if (= cursor 2)\n",
    "                        (+ c2 1)\n",
    "                        c2)\n",
    "                    (if (= cursor 3)\n",
    "                        (+ c3 1)\n",
    "                        c3)\n",
    "                    (if (= cursor 4)\n",
    "                        (+ c4 1)\n",
    "                        c4)\n",
    "                    (if (= cursor 5)\n",
    "                        (+ c5 1)\n",
    "                        c5)))))\n",
    "\n",
    "(define (count-change2 amount)\n",
    "  (c-c (- amount\n",
    "          (get-coin 1))\n",
    "       0\n",
    "       1\n",
    "       1\n",
    "       0\n",
    "       0\n",
    "       0\n",
    "       0))\n",
    "(count-change2 100)"
   ]
  },
  {
   "cell_type": "raw",
   "metadata": {},
   "source": [
    "动态规划版本\n",
    "\n",
    "//cpp\n",
    "          #include <iostream>\n",
    "          #include <vector>\n",
    "          using namespace std;\n",
    "\n",
    "          int main ()\n",
    "          {\n",
    "                 int amount = 55;\n",
    "                 const int kind_of_coins = 5 ;\n",
    "                 int coin [ kind_of_coins] = { 1 , 5 , 10, 25 , 50 };\n",
    "                 vector< int > result ( amount + 1 , 0 );\n",
    "                 result [0 ] = 1;\n",
    "\n",
    "                 for (int i = 0 ; i < kind_of_coins; ++ i ){\n",
    "                       int j = coin[ i ];\n",
    "                       for (; j <= amount; ++ j )\n",
    "                             result [j ] += result[ j - coin [ i]];\n",
    "                  }\n",
    "\n",
    "              cout << result [amount ] << endl;\n",
    "              system (\"pause\" );\n",
    "\n",
    "          }"
   ]
  },
  {
   "cell_type": "markdown",
   "metadata": {},
   "source": [
    "总结：  \n",
    "- 递归 ： 程序调用自己，递归通常是从顶部将问题分解，通过解决掉所有分解出来的小问题，来解决整个问题。\n",
    "- 迭代 ： 利用变量的原值推算出变量的新值，递归中肯定有迭代，但迭代中不一定有递归。\n",
    "- 动态规划 ： 通常于递归相反，其从底部开始解决问题，将所有小问题解决掉，进而解决了整个问题。"
   ]
  },
  {
   "cell_type": "markdown",
   "metadata": {},
   "source": [
    "## 用高阶函数做抽象"
   ]
  },
  {
   "cell_type": "code",
   "execution_count": 32,
   "metadata": {
    "execution": {
     "iopub.status.busy": "2020-08-04T13:58:48Z",
     "iopub.status.idle": "2020-08-04T13:58:48Z"
    }
   },
   "outputs": [
    {
     "data": {
      "text/html": [
       "<code>9</code>"
      ],
      "text/plain": [
       "9"
      ]
     },
     "execution_count": 32,
     "metadata": {},
     "output_type": "execute_result"
    }
   ],
   "source": [
    "; 首先考虑如下的几个函数，都是求和的\n",
    "; 比如这个是计算从a到b的各个整数之和\n",
    "(define (sum-integers a b)\n",
    "  ( if (> a b)                         ; a不断递增，有界限\n",
    "    0                                  \n",
    "    (+ a (sum-integers (+ a 1) b))))   ; 不断的加\n",
    "\n",
    "; 这里求给定范围内整数的立方之和\n",
    "(define (cube x) (* x x x))\n",
    "\n",
    "(define (sum-cube a b)\n",
    "  (if (> a b)\n",
    "      0\n",
    "      (+ (cube a) (sum-cube (+ a 1) b))))\n",
    "\n",
    "; 还有很多其他的求和，可以看到共享着一种公共的基础模式\n",
    "(define (mysum term a next b)\n",
    "  (if (> a b)\n",
    "      0 \n",
    "      (+ (term a)                          ; 这里term是对这个整数计算\n",
    "         (mysum term (next a) next b))))   ; next表示下一个。\n",
    "; 所以这里求a到b的各个整数立方之和就可以这样做\n",
    "(define (inc n) (+ n 1))  ; next模式是递增\n",
    "(define (sum-cube a b)\n",
    "  (mysum cube a inc b))\n",
    "\n",
    "(sum-cube 1 2)\n",
    "\n"
   ]
  },
  {
   "cell_type": "code",
   "execution_count": null,
   "metadata": {},
   "outputs": [],
   "source": []
  },
  {
   "cell_type": "markdown",
   "metadata": {},
   "source": [
    "# 引用\n",
    "> "
   ]
  },
  {
   "cell_type": "code",
   "execution_count": null,
   "metadata": {},
   "outputs": [],
   "source": []
  }
 ],
 "metadata": {
  "kernelspec": {
   "display_name": "Racket",
   "language": "racket",
   "name": "racket"
  },
  "language_info": {
   "codemirror_mode": "scheme",
   "file_extension": ".rkt",
   "mimetype": "text/x-racket",
   "name": "Racket",
   "pygments_lexer": "racket",
   "version": "7.7.0.901"
  },
  "toc-autonumbering": true
 },
 "nbformat": 4,
 "nbformat_minor": 4
}
