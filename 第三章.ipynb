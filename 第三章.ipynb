{
 "cells": [
  {
   "cell_type": "code",
   "execution_count": 1,
   "metadata": {
    "execution": {
     "iopub.status.busy": "2020-08-09T07:20:15Z",
     "iopub.status.idle": "2020-08-09T07:20:15Z"
    }
   },
   "outputs": [
    {
     "name": "stdout",
     "output_type": "stream",
     "text": [
      "15\n",
      "25"
     ]
    }
   ],
   "source": [
    "; 练习3.1 ，做一个累加器，做这个是初步认识局部变量\n",
    "; A是一个过程，那么make-accumulator 返回的是一个过程。\n",
    "\n",
    "(define (make-accumulator accumulator)\n",
    "  (lambda (x)                                   ; 返回一个过程\n",
    "    (begin (set! accumulator (+ x accumulator)) ; 修改这个局部变量\n",
    "           accumulator )))                      ; 返回这个值\n",
    "\n",
    "(define A (make-accumulator 5))\n",
    "(display (A 10))\n",
    "(newline)\n",
    "(display (A 10))"
   ]
  },
  {
   "cell_type": "markdown",
   "metadata": {},
   "source": [
    "# 用变动的数据做模拟"
   ]
  },
  {
   "cell_type": "markdown",
   "metadata": {},
   "source": [
    "## 数字电路的模拟器\n",
    "\n",
    "模拟一个半加器   \n",
    "![](./图片/3-25半加器.png)  \n",
    "\n",
    "思路分析：我们希望构造出一个程序，能够模拟我们希望研究的各种数字逻辑电路。这个程序将构造出模拟连线的计算对象，它们能够保持信号，\n",
    "\n"
   ]
  },
  {
   "cell_type": "code",
   "execution_count": 2,
   "metadata": {
    "execution": {
     "iopub.status.busy": "2020-08-09T07:20:15Z",
     "iopub.status.idle": "2020-08-09T07:20:16Z"
    }
   },
   "outputs": [],
   "source": [
    "; 这个模拟中的最基本元素就是连线，过程make-wire,举例来说\n",
    "(require sicp)\n",
    "; 如下这个是后来写的，避免错误的\n",
    "(define (make-wire) nil)\n",
    "(define (or-gate a b c) nil)\n",
    "(define (and-gate a b c) nil)\n",
    "(define (inverter a b) nil)\n",
    "\n",
    "\n",
    "\n",
    "(define a (make-wire))\n",
    "(define b (make-wire))\n",
    "(define c (make-wire))\n",
    "(define d (make-wire))\n",
    "(define e (make-wire))\n",
    "(define s (make-wire))\n",
    "\n",
    "; 下边是根据连线构造门，比如\n",
    "(or-gate a b d)\n",
    "(and-gate a b c)\n",
    "(inverter c e)\n",
    "\n",
    "; 然后下边构造一个半加器\n",
    "(define (half-adder a b s c)\n",
    "  (let ((d (make-wire)) (e (make-wire)))\n",
    "    (or-gate a b d)\n",
    "    (and-gate a b c)\n",
    "    (inverter c e)\n",
    "    (and-gate d e s)\n",
    "    'ok))\n",
    "\n",
    "; 根据半加器就可以构造出全加器了\n",
    "(define (full-adder a b c-in sum c-out)\n",
    "  (let ((s (make-wire))\n",
    "        (c1 (make-wire))\n",
    "        (c2 (make-wire)))\n",
    "    (half-adder b c-in s c1)\n",
    "    (half-adder a s sum c2)\n",
    "    (or-gate c1 c2 c-out)\n",
    "    'ok))\n",
    "\n",
    "; 然后根据全加器就可以构造出更复杂的电路。\n",
    "; 以上的根基是连线和各种门，是根据“按愿望思维”先构造出来的，这里就要开吃补充了。\n",
    "; 我们需要在一根线上的信号变化能够影响到其他连接线上的信号，所以需要如下的操作\n",
    "; (get-singal <wire>)  : 返回连接线上信号的当前值\n",
    "; (set-singal! <wire> <new-wire>)  : 修改 \n",
    "; (add-action! <wire> <procedure of no arguments>)  : 能够将相应连接线上值的变化传递给其他的连线。\n",
    "; (after-delay )  : 延时的，数字电路肯定是有延时的吧。\n",
    "; 有了上边这些，就可以定义基本的数字逻辑电路了\n",
    "\n",
    "(define (inverter input output)\n",
    "  (define (invert-input)\n",
    "    (let ((new-value (logical-not (get-signal input))))   ; 取得新值\n",
    "      (after-delay inverter-delay                         ; 延时若干时间\n",
    "                   (lambda ()\n",
    "                     (set-signal! output new-value)))))   ; 更新新值\n",
    "  (add-action! input invert-input)    ; 为线路关联一个过程，当input改变，就调用invert-input\n",
    "  'ok)\n",
    "\n",
    "(define (logical-not s)    ; 这个过程是逻辑反\n",
    "  (cond ((= s 0) 1)\n",
    "        ((= s 1) 0)\n",
    "        (else (error \"Invalid signal\" s))))\n",
    "\n",
    "; 如下是与门 \n",
    "(define (and-gate a1 a2 output)\n",
    "  (define (and-action-procedure)\n",
    "    (let ((new-value\n",
    "           (logical-and (get-signal a1) (get-signal a2))))\n",
    "      (after-delay and-gate-delay\n",
    "                   (lambda ()\n",
    "                     (set-signal! output new-value)))))\n",
    "  ; 如下2个，有一个有变化，就调用 and-action-procedure\n",
    "  (add-action! a1 and-action-procedure)\n",
    "  (add-action! a2 and-action-procedure)\n",
    "  'ok)\n",
    "; 我写的于运算\n",
    "(define (logical-and a1 ay)\n",
    "  (if (and (= a1 1) (= a2 2))\n",
    "      1\n",
    "      0\n",
    "   ))\n",
    "\n",
    "; 如下是我写的或门\n",
    "(define (or-gate a1 a2 output)\n",
    "  (define (or-action-procedure)\n",
    "    (let ((new-value\n",
    "           (logical-or (get-signal a1) (get-signal a2))))\n",
    "      (after-delay and-gate-delay\n",
    "                   (lambda ()\n",
    "                     (set-signal! output new-value)))))\n",
    "  ; 如下2个，有一个有变化，就调用 and-action-procedure\n",
    "  (add-action! a1 or-action-procedure)\n",
    "  (add-action! a2 or-action-procedure)\n",
    "  'ok)\n",
    "\n",
    "; 我写的或运算\n",
    "(define (logical-or a1 ay)\n",
    "  (if (or (= a1 1) (= a2 2))\n",
    "      1\n",
    "      0\n",
    "   ))\n",
    "\n",
    "; 如下是最基本的线路的表示，\n",
    "\n",
    "(define (make-wire)\n",
    "  (let (\n",
    "        (signal-value 0)                          ; 初始状态\n",
    "        (action-procedures '()))                  ; 在信号改变时，这些过程都要执行。\n",
    "    ; 修改新值。\n",
    "    (define (set-my-signal! new-value)       \n",
    "      (if (not (= signal-value new-value))        ; 如果状态改变，就执行如下的。\n",
    "          (begin \n",
    "           (set! signal-value new-value)          ; 先改变状态\n",
    "           (call-each action-procedures))         ; 然后这些过程都要执行。\n",
    "          'done))\n",
    "    ; 添加执行过程\n",
    "    (define (accept-action-procedure! proc)       \n",
    "      (set! action-procedures (cons proc action-procedures))\n",
    "      (proc))\n",
    "    \n",
    "    ; 返回一个内部过程，有参数的。\n",
    "    (define (dispatch m)\n",
    "      (cond ((eq? m 'get-signal) signal-value)\n",
    "            ((eq? m 'set-signal!) set-my-signal!)\n",
    "            ((eq? m 'add-action!) accept-action-procedure!)\n",
    "            (else (error \"Unknown operation -- WIRE\" m))))\n",
    "    dispatch))\n",
    "\n",
    "; 这个call-each是一个诸葛调用一个无参数过程表中的过程的\n",
    "(define (call-each procedures)\n",
    "  (if (null? procedures)               ; 递归有终结条件。\n",
    "      'done\n",
    "      (begin\n",
    "       ((car procedures))              ; 调用这个过程。\n",
    "       (call-each (cdr procedures))))) ; 递归。\n",
    "\n",
    "; 如下是简写\n",
    "(define (get-signal wire)\n",
    " (wire 'get-signal))\n",
    "(define (set-signal! wire new-value)\n",
    " ((wire 'set-signal!) new-value))\n",
    "(define (add-action! wire action-procedure)\n",
    " ((wire 'add-action!) action-procedure))\n",
    "\n",
    "; 总结一下，首先假设有线路，"
   ]
  },
  {
   "cell_type": "markdown",
   "metadata": {},
   "source": [
    "总结一下。\n",
    "- 第一轮\n",
    "   - 首先假设有线路的构造过程。\n",
    "   - 假设有了最基本门电路。\n",
    "   - 然后在门电路的基础上做半加器\n",
    "   - 然后在半加器的基础上做全加器。\n",
    "- 第二轮\n",
    "   - 假设我么有线路的几个功能。\n",
    "      - get-signal : 返回连接线上的当前值。\n",
    "      - set-signal! : 修改成新的值\n",
    "      - add-action  : 添加信号值改变后需要运行的过程。\n",
    "   - 根据如上的，就可以构建如下门电路\n",
    "      - 与门\n",
    "      - 非门\n",
    "      - 或门\n",
    "- 第三轮\n",
    "   - 具体写线路\n",
    "      - 构造过程\n",
    "      - call-each 运行每个动作过程。\n",
    "   - 待处理表 ： 其实就是等待处理的过程。\n",
    "   - 写驱动，对待处理表操作，\n",
    "- 第四轮\n",
    "   - 加一个检测器放在线路上，用于显示模拟器的活动。"
   ]
  },
  {
   "cell_type": "markdown",
   "metadata": {},
   "source": [
    "## 约束的传播\n",
    "\n",
    "我们可以基于各种关系进行工作，这个语言的基本元素就是基本约束，它们描述了在不同量之间的某种特定关系。这里以温度转换为例子。"
   ]
  },
  {
   "cell_type": "code",
   "execution_count": 3,
   "metadata": {
    "execution": {
     "iopub.status.busy": "2020-08-09T07:20:16Z",
     "iopub.status.idle": "2020-08-09T07:20:16Z"
    }
   },
   "outputs": [
    {
     "data": {
      "text/html": [
       "<code>'ok</code>"
      ],
      "text/plain": [
       "'ok"
      ]
     },
     "execution_count": 3,
     "metadata": {},
     "output_type": "execute_result"
    }
   ],
   "source": [
    "; 简单点，这个是有连接器（相当于电线），约束器（相当于电路）\n",
    "; 如下是连接器的构造过程，我已经按照顺序写的，实际上，文章中是先从顶层开始抽象设计。\n",
    "(define (make-connector)\n",
    "  (let \n",
    "    ((value false)         ; 保存连接器的当前值\n",
    "     (informant false)     ; 是设置连接器值的对象\n",
    "     (constraints '()))    ; 这一连接器所涉及的所有约束的表。\n",
    "    ; 如下这个修改新的值\n",
    "    (define (set-my-value newval setter)\n",
    "      (cond ((not (has-value? me))      ; 原先没有值的情况，\n",
    "             (set! value newval)\n",
    "             (set! informant setter)\n",
    "             (for-each-except setter\n",
    "                              inform-about-value\n",
    "                              constraints))\n",
    "            ((not (= value newval))\n",
    "             (error \"Contradiction\" (list value newval)))\n",
    "            (else 'ignored)))\n",
    "    ; 如下是忘记原先的值\n",
    "    (define (forget-my-value retractor)\n",
    "      (if (eq? retractor informant)\n",
    "          (begin (set! informant false)\n",
    "                 (for-each-except retractor\n",
    "                                  inform-about-no-value\n",
    "                                  constraints))\n",
    "          'ignored))\n",
    "    ; 添加新的约束器\n",
    "    (define (connect new-constraint)\n",
    "      (if (not (memq new-constraint constraints))\n",
    "          (set! constraints\n",
    "                (cons new-constraint constraints)))\n",
    "      (if (has-value? me)\n",
    "          (inform-about-value new-constraint))\n",
    "      'done)\n",
    "    ; 如下这个是分发过程。\n",
    "    (define (me request)\n",
    "      (cond ((eq? request 'has-value?)\n",
    "             (if informant true false))\n",
    "            ((eq? request 'value) value)\n",
    "            ((eq? request 'set-value!) set-my-value)\n",
    "            ((eq? request 'forget) forget-my-value)\n",
    "            ((eq? request 'connect) connect)\n",
    "            (else (error \"Unknown operation -- CONNECTOR\"\n",
    "                         request))))\n",
    "    me))\n",
    "; 连接器通知它的所有约束。\n",
    "(define (for-each-except exception procedure list)\n",
    "  (define (loop items)\n",
    "    (cond ((null? items) 'done)\n",
    "          ((eq? (car items) exception) (loop (cdr items)))   ; 这个约束会跳过通知过来的约束。\n",
    "          (else (procedure (car items))\n",
    "                (loop (cdr items)))))\n",
    "  (loop list))\n",
    "\n",
    "; 如下是连接器的外部界面\n",
    "(define (has-value? connector)\n",
    "  (connector 'has-value?))\n",
    "(define (get-value connector)\n",
    "  (connector 'value))\n",
    "(define (set-value! connector new-value informant)\n",
    "  ((connector 'set-value!) new-value informant))\n",
    "(define (forget-value! connector retractor)\n",
    " ((connector 'forget) retractor))\n",
    "(define (connect connector new-constraint)\n",
    " ((connector 'connect) new-constraint))\n",
    "\n",
    "; 如下是构造几个约束器\n",
    "(define (adder a1 a2 sum)\n",
    "  ; 更新新值的过程\n",
    "  (define (process-new-value)\n",
    "    ; 判断2个值，然后计算第三个值\n",
    "    (cond ((and (has-value? a1) (has-value? a2))\n",
    "           (set-value! sum\n",
    "                       (+ (get-value a1) (get-value a2))\n",
    "                       me))\n",
    "          ((and (has-value? a1) (has-value? sum))\n",
    "           (set-value! a2\n",
    "                       (- (get-value sum) (get-value a1))\n",
    "                       me))\n",
    "          ((and (has-value? a2) (has-value? sum))\n",
    "           (set-value! a1\n",
    "                       (- (get-value sum) (get-value a2))\n",
    "                       me))))\n",
    "  ; 忘记值\n",
    "  (define (process-forget-value)\n",
    "    (forget-value! sum me)   ; 如下是3个忘记值，会导致所有相关的值忘记。\n",
    "    (forget-value! a1 me)\n",
    "    (forget-value! a2 me)\n",
    "    (process-new-value))     ; 计算新的值\n",
    " (define (me request)\n",
    "   (cond ((eq? request 'I-have-a-value)\n",
    "          (process-new-value))\n",
    "         ((eq? request 'I-lost-my-value)\n",
    "          (process-forget-value))\n",
    "         (else\n",
    "          (error \"Unknown request -- ADDER\" request))))\n",
    "  (connect a1 me)\n",
    "  (connect a2 me)\n",
    "  (connect sum me)\n",
    "  me)\n",
    "\n",
    "; 外部界面\n",
    "(define (inform-about-value constraint)\n",
    "  (constraint 'I-have-a-value))\n",
    "(define (inform-about-no-value constraint)\n",
    "  (constraint 'I-lost-my-value))\n",
    "\n",
    "; 乘法器约束\n",
    "(define (multiplier m1 m2 product)\n",
    "  (define (process-new-value)\n",
    "    (cond ((or (and (has-value? m1) (= (get-value m1) 0))\n",
    "               (and (has-value? m2) (= (get-value m2) 0)))\n",
    "           (set-value! product 0 me))\n",
    "          ((and (has-value? m1) (has-value? m2))\n",
    "           (set-value! product\n",
    "                       (* (get-value m1) (get-value m2))\n",
    "                       me))\n",
    "          ((and (has-value? product) (has-value? m1))\n",
    "           (set-value! m2\n",
    "                       (/ (get-value product) (get-value m1))\n",
    "                       me))\n",
    "          ((and (has-value? product) (has-value? m2))\n",
    "           (set-value! m1\n",
    "                       (/ (get-value product) (get-value m2))\n",
    "                       me))))\n",
    "  (define (process-forget-value)\n",
    "    (forget-value! product me)\n",
    "    (forget-value! m1 me)\n",
    "    (forget-value! m2 me)\n",
    "    (process-new-value))\n",
    "  (define (me request)\n",
    "    (cond ((eq? request 'I-have-a-value)\n",
    "           (process-new-value))\n",
    "          ((eq? request 'I-lost-my-value)\n",
    "           (process-forget-value))\n",
    "          (else\n",
    "           (error \"Unknown request -- MULTIPLIER\" request))))\n",
    "  (connect m1 me)\n",
    "  (connect m2 me)\n",
    "  (connect product me)\n",
    "  me)\n",
    "; 常量约束\n",
    "(define (constant value connector)\n",
    "  (define (me request)\n",
    "    (error \"Unknown request -- CONSTANT\" request))\n",
    "  (connect connector me)\n",
    "  (set-value! connector value me)\n",
    "  me)\n",
    "\n",
    "; 监视器\n",
    "(define (probe name connector)\n",
    "  (define (print-probe value)\n",
    "    (newline)\n",
    "    (display \"Probe: \")\n",
    "    (display name)\n",
    "    (display \" = \")\n",
    "    (display value))\n",
    "  (define (process-new-value)\n",
    "    (print-probe (get-value connector)))\n",
    "  (define (process-forget-value)\n",
    "    (print-probe \"?\"))\n",
    "  (define (me request)\n",
    "    (cond ((eq? request 'I-have-a-value)\n",
    "           (process-new-value))\n",
    "          ((eq? request 'I-lost-my-value)\n",
    "           (process-forget-value))\n",
    "          (else\n",
    "           (error \"Unknown request -- PROBE\" request))))\n",
    "  (connect connector me)\n",
    "  me)\n",
    "\n",
    "; 如下是构造温度\n",
    "\n",
    "\n",
    "(define (celsius-fahrenheit-converter c f)\n",
    "  (let \n",
    "    ; 临时变量\n",
    "    ((u (make-connector))\n",
    "     (v (make-connector))\n",
    "     (w (make-connector))\n",
    "     (x (make-connector))\n",
    "     (y (make-connector)))\n",
    "    ; 构造完整约束\n",
    "    (multiplier c w u)\n",
    "    (multiplier v x u)\n",
    "    (adder v y f)\n",
    "    (constant 9 w)\n",
    "    (constant 5 x)\n",
    "    (constant 32 y)\n",
    "    'ok))\n",
    "\n",
    "(define C (make-connector))\n",
    "(define F (make-connector))\n",
    "(celsius-fahrenheit-converter C F)\n"
   ]
  },
  {
   "cell_type": "code",
   "execution_count": 4,
   "metadata": {
    "execution": {
     "iopub.status.busy": "2020-08-09T07:20:16Z",
     "iopub.status.idle": "2020-08-09T07:20:16Z"
    }
   },
   "outputs": [
    {
     "data": {
      "text/html": [
       "<code>#&lt;procedure&gt;</code>"
      ],
      "text/plain": [
       "#<procedure>"
      ]
     },
     "execution_count": 4,
     "metadata": {},
     "output_type": "execute_result"
    }
   ],
   "source": [
    "; 添加监视器\n",
    "(probe \"Celsius temp\" C)\n",
    "(probe \"Fahrenheit temp\" F)"
   ]
  },
  {
   "cell_type": "code",
   "execution_count": 5,
   "metadata": {
    "execution": {
     "iopub.status.busy": "2020-08-09T07:20:16Z",
     "iopub.status.idle": "2020-08-09T07:20:16Z"
    }
   },
   "outputs": [
    {
     "name": "stdout",
     "output_type": "stream",
     "text": [
      "\n",
      "Probe: Celsius temp = 25\n",
      "Probe: Fahrenheit temp = 77"
     ]
    },
    {
     "data": {
      "text/html": [
       "<code>'done</code>"
      ],
      "text/plain": [
       "'done"
      ]
     },
     "execution_count": 5,
     "metadata": {},
     "output_type": "execute_result"
    }
   ],
   "source": [
    "(set-value! C 25 'user)\n"
   ]
  },
  {
   "cell_type": "code",
   "execution_count": 6,
   "metadata": {
    "execution": {
     "iopub.status.busy": "2020-08-09T07:20:16Z",
     "iopub.status.idle": "2020-08-09T07:20:16Z"
    }
   },
   "outputs": [
    {
     "name": "stderr",
     "output_type": "stream",
     "text": [
      "Contradiction {77 212}\n"
     ]
    }
   ],
   "source": [
    "(set-value! F 212 'user)"
   ]
  },
  {
   "cell_type": "code",
   "execution_count": 7,
   "metadata": {
    "execution": {
     "iopub.status.busy": "2020-08-09T07:20:16Z",
     "iopub.status.idle": "2020-08-09T07:20:16Z"
    }
   },
   "outputs": [
    {
     "name": "stdout",
     "output_type": "stream",
     "text": [
      "\n",
      "Probe: Celsius temp = ?\n",
      "Probe: Fahrenheit temp = ?"
     ]
    },
    {
     "data": {
      "text/html": [
       "<code>'done</code>"
      ],
      "text/plain": [
       "'done"
      ]
     },
     "execution_count": 7,
     "metadata": {},
     "output_type": "execute_result"
    }
   ],
   "source": [
    "(forget-value! C 'user)"
   ]
  },
  {
   "cell_type": "code",
   "execution_count": 8,
   "metadata": {
    "execution": {
     "iopub.status.busy": "2020-08-09T07:20:16Z",
     "iopub.status.idle": "2020-08-09T07:20:16Z"
    }
   },
   "outputs": [
    {
     "name": "stdout",
     "output_type": "stream",
     "text": [
      "\n",
      "Probe: Fahrenheit temp = 212\n",
      "Probe: Celsius temp = 100"
     ]
    },
    {
     "data": {
      "text/html": [
       "<code>'done</code>"
      ],
      "text/plain": [
       "'done"
      ]
     },
     "execution_count": 8,
     "metadata": {},
     "output_type": "execute_result"
    }
   ],
   "source": [
    "(set-value! F 212 'user)"
   ]
  },
  {
   "cell_type": "markdown",
   "metadata": {},
   "source": [
    "总结一下：\n",
    "- 三大部分：\n",
    "   - 连接线部分 ： 里边存储约束器，当有变化时，通知约束器。\n",
    "   - 约束器部分 ： 当有足够的信息支持改变数据的时候，修改相关的系数，而这个修改或者删除过程会调用连接线部分的过程，从而继续。\n",
    "   - 监听器部分 ： 其实跟约束器一样，只是监听数据而已。"
   ]
  },
  {
   "cell_type": "code",
   "execution_count": 9,
   "metadata": {
    "execution": {
     "iopub.status.busy": "2020-08-09T07:20:16Z",
     "iopub.status.idle": "2020-08-09T07:20:16Z"
    }
   },
   "outputs": [
    {
     "name": "stdout",
     "output_type": "stream",
     "text": [
      "\n",
      "Probe: a: = 25\n",
      "Probe: b: = 35\n",
      "Probe: c: = 30"
     ]
    },
    {
     "data": {
      "text/html": [
       "<code>30</code>"
      ],
      "text/plain": [
       "30"
      ]
     },
     "execution_count": 9,
     "metadata": {},
     "output_type": "execute_result"
    }
   ],
   "source": [
    "; 联系3.33 c=(a+b)/2\n",
    "; 这里我不做除法，而当作乘法吧\n",
    "; c = (a+b) * 1/2\n",
    "\n",
    "; 简单点，首先做3个连接\n",
    "(define a (make-connector))\n",
    "(define b (make-connector))\n",
    "(define c (make-connector))\n",
    "; 然后a+b为\n",
    "(define ab (make-connector))\n",
    "; 然后1/2是如下\n",
    "(define ab-half (make-connector))\n",
    "\n",
    "; 如下是做约束了\n",
    "(adder a b ab)               ; ab = a + b\n",
    "(multiplier ab ab-half c)    ; ab * ab-half = c\n",
    "(constant 1/2 ab-half)       ; ab-half = 1/2\n",
    "\n",
    "; 添加监听器\n",
    "(probe 'a: a)\n",
    "(probe 'b: b)\n",
    "(probe 'c: c)\n",
    "\n",
    "; 测试\n",
    "(set-value! a 25 'user)\n",
    "(set-value! b 35 'user)\n",
    "(get-value c)"
   ]
  },
  {
   "cell_type": "markdown",
   "metadata": {},
   "source": [
    "# 并行化"
   ]
  },
  {
   "cell_type": "code",
   "execution_count": 10,
   "metadata": {
    "execution": {
     "iopub.status.busy": "2020-08-09T07:20:16Z",
     "iopub.status.idle": "2020-08-09T07:20:16Z"
    }
   },
   "outputs": [
    {
     "name": "stdout",
     "output_type": "stream",
     "text": [
      "11,11,11,11,11,11,11,11,11,11,11,11,11,11,11,11,11,11,11,11,11,11,11,11,11,11,11,11,11,11,11,11,11,11,11,11,11,11,11,11,11,11,11,11,11,11,11,11,11,11,11,11,11,11,11,11,11,11,11,11,11,11,11,11,11,11,11,11,11,11,11,11,11,11,11,11,11,11,11,11,11,11,11,11,11,11,11,11,11,11,11,11,11,11,11,11,11,11,11,11,11,11,11,11,11,11,11,11,11,11,11,11,11,11,11,11,11,11,11,11,11,11,11,11,11,11,11,11,11,11,11,11,11,11,11,11,11,11,11,11,11,11,11,11,11,11,11,11,11,11,11,11,11,11,11,11,11,11,11,11,11,11,11,11,11,11,11,11,11,11,11,11,11,11,11,11,11,11,11,11,11,11,11,11,11,11,11,11,11,11,11,11,11,11,11,11,11,11,11,11,"
     ]
    },
    {
     "data": {
      "text/html": [
       "<code>'()</code>"
      ],
      "text/plain": [
       "'()"
      ]
     },
     "execution_count": 10,
     "metadata": {},
     "output_type": "execute_result"
    }
   ],
   "source": [
    "; 如下检查单元结果，但这个并不能保证达到所需要的效果，这个操作必须以原子擦做\n",
    "; 如下的为了照顾racket，做了很多修改，比如car->mcar , list->mcons,make-mutex中的if缺少else。\n",
    "(require racket)\n",
    ";; (define false 0)\n",
    ";; (define true 1)\n",
    "(define (test-and-set! cell)\n",
    "  (if (mcar cell)\n",
    "      true                            ; 如果为真，表示别的进程有互斥元               \n",
    "      (begin (set-car! cell true)     ; 这里表示可以获得互斥元，先将互斥元设置为真\n",
    "             false)))                 ; 然后再返回假。   \n",
    "\n",
    "(define (make-serializer)       ; 串行化组定义\n",
    "  (let ((mutex (make-mutex)))   ; 这个是互斥元\n",
    "    (lambda (p)                 ; 串行化组的参数是过程\n",
    "      (define (serialized-p . args)\n",
    "        (mutex 'acquire)             ; 先获得互斥元\n",
    "        (let ((val (apply p args)))  ; 执行过程，并保存结果。\n",
    "          (mutex 'release)           ; 释放互斥元。\n",
    "          val))                      ; 返回结果    \n",
    "      serialized-p)))\n",
    "\n",
    "\n",
    "(define (make-mutex)                    ; 构造互斥元过程\n",
    "  (let ((cell (mcons false false)))\n",
    "    (define (the-mutex m)               ; 分发消息\n",
    "      (cond ((eq? m 'acquire)           ; 如果是要获得互斥元\n",
    "             (if (test-and-set! cell)   ; 检查单元\n",
    "                 (the-mutex 'acquire)\n",
    "                 nil\n",
    "                 )) ; retry\n",
    "            ((eq? m 'release) (clear! cell))))  ; 释放互斥元\n",
    "    the-mutex))\n",
    "\n",
    "(define (clear! cell)\n",
    " (set-car! cell false))\n",
    "\n",
    "\n",
    "(define (parallel-execute . args) (for-each thread args))  ; 合格是一种并行。\n",
    "\n",
    "(define x 10)\n",
    "(define s (make-serializer))     ; 这个是做一个串行化组\n",
    "(parallel-execute \n",
    " (s (lambda () (set! x (* x x))))\n",
    " (s (lambda () (set! x (+ x 1)))))\n",
    "; 我要打印100次\n",
    "(define (manycount var count)\n",
    "  (if (= count 0)\n",
    "      nil\n",
    "      (begin (display x)\n",
    "             (display \",\")\n",
    "             (manycount var (- count 1)))))\n",
    "(manycount x 200)  ; 我电脑运行太快，这个不运行也正常。"
   ]
  },
  {
   "cell_type": "markdown",
   "metadata": {},
   "source": [
    "串行化的实现： 用一种更基本的称为互斥元的同步机制来实现串行化。 互斥元是一种对象，假设提供2个操作，一个互斥元可以被获取和被释放，一旦某个互斥元被获取，对于这一互斥元的任何其他操作都必须等到该互斥元被释放之后。"
   ]
  },
  {
   "cell_type": "code",
   "execution_count": 11,
   "metadata": {
    "execution": {
     "iopub.status.busy": "2020-08-09T07:20:16Z",
     "iopub.status.idle": "2020-08-09T07:20:16Z"
    }
   },
   "outputs": [],
   "source": [
    "(define cell (list false))"
   ]
  },
  {
   "cell_type": "code",
   "execution_count": 12,
   "metadata": {
    "execution": {
     "iopub.status.busy": "2020-08-09T07:20:16Z",
     "iopub.status.idle": "2020-08-09T07:20:16Z"
    }
   },
   "outputs": [
    {
     "name": "stdout",
     "output_type": "stream",
     "text": [
      "false"
     ]
    }
   ],
   "source": [
    "(if (car cell)\n",
    "    (display 'true)\n",
    "    (display 'false))"
   ]
  },
  {
   "cell_type": "code",
   "execution_count": 13,
   "metadata": {
    "execution": {
     "iopub.status.busy": "2020-08-09T07:20:16Z",
     "iopub.status.idle": "2020-08-09T07:20:16Z"
    }
   },
   "outputs": [
    {
     "name": "stdout",
     "output_type": "stream",
     "text": [
      "10\n",
      "10\n",
      "10\n",
      "10\n",
      "10\n",
      "10\n",
      "10\n",
      "10\n",
      "10\n",
      "10\n",
      "10\n",
      "11\n",
      "11\n",
      "1111\n",
      "11\n",
      "11\n",
      "11\n",
      "11\n",
      "11\n",
      "11\n",
      "11\n",
      "11\n",
      "11\n",
      "11\n",
      "121\n",
      "121\n",
      "121"
     ]
    }
   ],
   "source": [
    "(require racket)\n",
    "(define x 10)\n",
    "(define (parallel-execute . thunks)\n",
    "  (for-each thread thunks))\n",
    "(parallel-execute (lambda () (set! x (* x x)))\n",
    "                  (lambda () (set! x (+ x 1))))\n",
    "(display x)\n",
    "(newline)\n",
    "(display x)\n",
    "(newline)\n",
    "(display x)\n",
    "(newline)\n",
    "(display x)\n",
    "(newline)\n",
    "(display x)\n",
    "(newline)\n",
    "(display x)\n",
    "(newline)\n",
    "(display x)\n",
    "(newline)\n",
    "(display x)\n",
    "(newline)\n",
    "(display x)\n",
    "(newline)\n",
    "(display x)\n",
    "(newline)\n",
    "(display x)\n",
    "(newline)\n",
    "(display x)\n",
    "(newline)\n",
    "(display x)\n",
    "(newline)\n",
    "(display x)\n",
    "(display x)\n",
    "(newline)\n",
    "(display x)\n",
    "(newline)\n",
    "(display x)\n",
    "(newline)\n",
    "(display x)\n",
    "(newline)\n",
    "(display x)\n",
    "(newline)\n",
    "(display x)\n",
    "(newline)\n",
    "(display x)\n",
    "(newline)\n",
    "(display x)\n",
    "(newline)\n",
    "(display x)\n",
    "(newline)\n",
    "(display x)\n",
    "(newline)\n",
    "(display x)\n",
    "(newline)\n",
    "(display x)\n",
    "(newline)\n",
    "(display x)\n",
    "(newline)\n",
    "(display x)"
   ]
  },
  {
   "cell_type": "markdown",
   "metadata": {},
   "source": [
    "# 流"
   ]
  },
  {
   "cell_type": "code",
   "execution_count": 14,
   "metadata": {
    "execution": {
     "iopub.status.busy": "2020-08-09T07:20:16Z",
     "iopub.status.idle": "2020-08-09T07:20:16Z"
    }
   },
   "outputs": [],
   "source": [
    "; 序列 ： 一次操作完全执行完毕后才发给下一层，如果数据很大，那么中间数据会非常巨大。\n",
    "; 流 ： 一次部分的提供数据给下一层，这样不就增加了效率吗？\n",
    "\n",
    "; 序列是分3层次，1、序列(list)，2、产生序列的过程,3、序列的高阶函数，4、操作序列的单个项目的过程（比如筛选）\n",
    "\n",
    "; 流的实现：\n",
    "; 1、 用序对，序对的第一项先计算出来，然后序对的第二项是将来要计算的\n",
    "; (cons-stream <a> <b>)  \n",
    "; 等价于\n",
    "; (cons <a> (delay <b>))   ; delay是约定以后要计算的，现在不计算。\n",
    "; (define (stream-car stream) (car stream))\n",
    "; (define (stream-cdr stream) (force (cdr stream)))   ; force 相当于要执行参数过程。\n",
    "; 2、 产生序列的过程中返回 (cons-stream <a> <b>) ，这样，其实只是计算了第一个<a>，<b>是约定以后计算但还没有计算的。\n",
    "; 3、 高阶函数中，\n",
    "(define (stream-filter pred stream)\n",
    "  (cond ((stream-null? stream) the-empty-stream)     ; 如果为空。\n",
    "        ((pred (stream-car stream))                  ; 这里是操作<a>\n",
    "         (cons-stream (stream-car stream)            ; 这个不是筛选吗？上边的为真后，这里继续生成一个cons-stream给上一层。\n",
    "                      (stream-filter pred\n",
    "                                     (stream-cdr stream))))\n",
    "        (else (stream-filter pred (stream-cdr stream)))))  ; 这里迫使计算<b>,组合式求值，先求子表达式。\n",
    "; 4、 delay的实现\n",
    "; (delay <exp>) 实际上是 (lambda () <exp>) \n",
    "; 而force 是\n",
    "; (define (force delayed-object)\n",
    ";  (delayed-object))     ; 只是将参数当作过程执行。\n",
    "; 总结 ： 序列，是一次全部求出所有的数据，然后送给下一层，而流，则是一次求出部分数据给下一层。\n",
    "\n",
    "; 保存求值的。\n",
    "(define (memo-proc proc)\n",
    "  (let ((already-run? false) (result false))\n",
    "    (lambda ()\n",
    "      (if (not already-run?)                ; 如果没有数据\n",
    "          (begin (set! result (proc))       ; \n",
    "                 (set! already-run? true)\n",
    "                 result)\n",
    "          result))))                        ; 如果已经有结果就返回结果\n",
    "; 这样 (delay <exp>)  等价于 (memo-proc (lambda () <exp>))"
   ]
  },
  {
   "cell_type": "raw",
   "metadata": {
    "execution": {
     "iopub.status.busy": "2020-08-09T07:43:09Z",
     "iopub.status.idle": "2020-08-09T07:43:12Z"
    }
   },
   "source": [
    "; 如下的这个在racket里会正常，但在jupyter里会造成死机。\n",
    "(require racket)\n",
    "\n",
    ";(define (delay exp)\n",
    ";  (lambda () exp))\n",
    ";  ;(memo-proc (lambda ()\n",
    ";  ; exp)))\n",
    ";\n",
    ";(define (force delayed-object)\n",
    ";  (delayed-object))\n",
    ";\n",
    ";(define (memo-proc proc)\n",
    ";  (let ((already-run? false) (result false))\n",
    ";    (lambda ()\n",
    ";      (if (not already-run?)\n",
    ";          (begin (set! result (proc))\n",
    ";                 (set! already-run? true)\n",
    ";                 result)\n",
    ";          result))))\n",
    "\n",
    "(define (delay ex)\n",
    "  (lambda () ex))\n",
    "\n",
    "(define (force delayed-object)\n",
    "  (delayed-object))\n",
    "\n",
    "(define (stream-car stream) (car stream))\n",
    " \n",
    "(define (stream-cdr stream) (force (cdr stream)))\n",
    " \n",
    "; this won't work as a simple function\n",
    ";(define (cons-stream a b)\n",
    ";  (cons a (delay b)))\n",
    " \n",
    "; This is scheme syntax for macro\n",
    "; http://stackoverflow.com/questions/5610480/scheme-sicp-r5rs-why-is-delay-not-a-special-form\n",
    "(define-syntax cons-stream\n",
    "  (syntax-rules ()\n",
    "    [(cons-stream x y) (cons x (delay y))]))\n",
    " \n",
    "(define the-empty-stream '())\n",
    " \n",
    "(define (stream-null? stream)\n",
    "  (null? stream))\n",
    " \n",
    "(define (stream-filter pred stream)\n",
    "  (cond ((stream-null? stream) the-empty-stream)\n",
    "        ((pred (stream-car stream))\n",
    "         (cons-stream (stream-car stream)\n",
    "                      (stream-filter pred (stream-cdr stream))))\n",
    "        (else (stream-filter pred (stream-cdr stream)))))\n",
    " \n",
    "(define (stream-ref s n)\n",
    "  (if (stream-null? s) the-empty-stream\n",
    "      (if (= n 0)\n",
    "          (stream-car s)\n",
    "          (stream-ref (stream-cdr s) (- n 1)))))\n",
    " \n",
    "(define (stream-map proc . argstreams)\n",
    "  (if (stream-null? (car argstreams))\n",
    "      the-empty-stream\n",
    "      (cons-stream (apply proc (map stream-car argstreams))\n",
    "                   (apply stream-map \n",
    "                          (cons proc (map stream-cdr argstreams))))))\n",
    " \n",
    "(define (stream-for-each proc s)\n",
    "  (if (stream-null? s)\n",
    "      'done\n",
    "      (begin (proc (stream-car s))\n",
    "             (stream-for-each proc (stream-cdr s)))))\n",
    " \n",
    "; Neil, 2012-05-10\n",
    "(define (stream-subseq stream a b)\n",
    "  (cond ((stream-null? stream) the-empty-stream)\n",
    "        ((= a b) the-empty-stream)\n",
    "        ((> a b) the-empty-stream)\n",
    "        (else (cons-stream (stream-ref stream a)\n",
    "              (stream-subseq stream (+ a 1) b)))))\n",
    " \n",
    "(define (display-line x)\n",
    "  (newline)\n",
    "  (display x))\n",
    " \n",
    "(define (display-stream s)\n",
    "  (stream-for-each display-line s))\n",
    " \n",
    "; examples\n",
    ";(let ((x (delay (+ 1 2))))\n",
    ";  (for ([i (in-range 1 10)])\n",
    ";            (display (force x))))\n",
    ";\n",
    ";; (define (integers-starting-from n)\n",
    ";;   (cons-stream n (integers-starting-from (+ n 1))))\n",
    " \n",
    ";; (define integers\n",
    ";;   (integers-starting-from 1))\n",
    " \n",
    ";; ;(display-line (stream-ref integers 0))\n",
    ";; (let ((x (stream-subseq integers 10000 10010)))\n",
    ";;   (display-stream x))\n",
    " \n",
    ";; (define odd-numbers \n",
    ";;   (stream-filter odd? integers))\n",
    " \n",
    ";; (display-stream (stream-subseq odd-numbers 50 60))\n",
    "  \n",
    ";; ;(let ((x (cons-stream 1 (cons-stream 2 '(3)))))\n",
    ";; ;  (display-stream x))\n",
    " \n",
    ";; (define (stream-add s n)\n",
    ";;   (stream-map (lambda (x)\n",
    ";;                 (+ x n)) s))\n",
    " \n",
    ";; (define (add-streams s1 s2)\n",
    ";;   (stream-map + s1 s2))\n",
    " \n",
    ";; (define fib\n",
    ";;   (cons-stream 1\n",
    ";;                (cons-stream 1\n",
    ";;                             (add-streams fib\n",
    ";;                                         (stream-cdr fib)))))\n",
    " \n",
    ";; (display-stream (stream-subseq fib 150 160))\n",
    " \n",
    " \n",
    ";; (define (divisible? x y)\n",
    ";;   (= (remainder x y) 0))\n",
    " \n",
    ";; (divisible? 10 2)\n",
    " \n",
    ";; (define (sieve stream)\n",
    ";;   (cons-stream\n",
    ";;    (stream-car stream)\n",
    ";;    (sieve (stream-filter\n",
    ";;            (lambda (x)\n",
    ";;              (not (divisible? x (stream-car stream))))\n",
    ";;            (stream-cdr stream)))))\n",
    " \n",
    ";; (define primes\n",
    ";;   (sieve (integers-starting-from 2)))\n",
    " \n",
    ";; (display-stream (stream-subseq primes 1000 1010))\n"
   ]
  },
  {
   "cell_type": "code",
   "execution_count": null,
   "metadata": {},
   "outputs": [],
   "source": []
  }
 ],
 "metadata": {
  "kernelspec": {
   "display_name": "Racket",
   "language": "racket",
   "name": "racket"
  },
  "language_info": {
   "codemirror_mode": "scheme",
   "file_extension": ".rkt",
   "mimetype": "text/x-racket",
   "name": "Racket",
   "pygments_lexer": "racket",
   "version": "7.7.0.901"
  }
 },
 "nbformat": 4,
 "nbformat_minor": 4
}
